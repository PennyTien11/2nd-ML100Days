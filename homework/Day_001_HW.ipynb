{
 "cells": [
  {
   "cell_type": "code",
   "execution_count": null,
   "metadata": {
    "collapsed": true
   },
   "outputs": [],
   "source": [
    "作業1：\n",
    "請上 Kaggle, 在 Competitions 或 Dataset 中找一組競賽或資料並寫下：\n",
    "https://www.kaggle.com/c/talkingdata-adtracking-fraud-detection\n",
    "1. 你選的這組資料為何重要\n",
    "    此資料提供來觀察目前網路公司所關注的問題：廣告轉化率。而此廣告欺詐問題關注的會是廣告商，廣告點擊量多高可能是平台方造假，希望可以從中判斷出真正對廣告商有造成效益的行為模式，預測造成效益與否。\n",
    "2. 資料從何而來 (tips: 譬如提供者是誰、以什麼方式蒐集)\n",
    "    資料為TalkingData提供。TalkingData是一家中國的第三方移動數據服務平台。他們其中一個產品為Ad Tracking，專門對廣告效果進行監測\n",
    "3. 蒐集而來的資料型態為何\n",
    "    競賽提供結構化資料（csv文字檔）。每一筆資料為使用者點擊廣告的資訊，包含點擊ip、點及設備等基礎資訊，以及最重要的最後是否下載了廣告的app。\n",
    "4. 這組資料想解決的問題如何評估\n",
    "    使用者是否會下載廣告之APP，找出廣告欺詐模式\n",
    "\n",
    "作業2：\n",
    "想像你經營一個自由載客車隊，你希望能透過數據分析以提升業績，請你思考並描述你如何規劃整體的分析/解決方案：\n",
    "1. 核心問題為何 (tips：如何定義 「提升業績 & 你的假設」)\n",
    "    首先要定位此自由載客的車隊主要客群(貢獻度最高的客群)為何，再針對此客群提出相對應服務進而提高業績。\n",
    "2. 資料從何而來 (tips：哪些資料可能會對你想問的問題產生影響 & 資料如何蒐集)\n",
    "    目標需要的資料為：客戶基本資訊、搭乘地點、搭乘原因、搭乘距離、搭乘金額、客戶搭乘頻率、客戶貢獻度\n",
    "    -客戶的資料：建立會員系統提供優惠，增加客戶提供資訊意願。\n",
    "    -搭乘資訊：司機方提供每次載客的資訊紀錄。\n",
    "    -進階資料：客戶搭乘頻率、客戶貢獻度\n",
    "    \n",
    "3. 蒐集而來的資料型態為何\n",
    "    每次搭乘紀錄可為結構化資料，上車地點、下車地點皆可透過地址或經緯度轉成結構化資料\n",
    "    \n",
    "4. 你要回答的問題，其如何評估 (tips：你的假設如何驗證)\n",
    "    找出貢獻度最高的客群，調整目前業務針對此客群。"
   ]
  },
  {
   "cell_type": "markdown",
   "metadata": {},
   "source": [
    "## 練習時間\n",
    "#### 請寫一個函式用來計算 Mean Square Error\n",
    "$ MSE = \\frac{1}{n}\\sum_{i=1}^{n}{(Y_i - \\hat{Y}_i)^2} $\n",
    "\n",
    "### Hint: [如何取平方](https://googoodesign.gitbooks.io/-ezpython/unit-1.html)"
   ]
  },
  {
   "cell_type": "code",
   "execution_count": null,
   "metadata": {
    "collapsed": true
   },
   "outputs": [],
   "source": [
    "import numpy as np\n",
    "import matplotlib.pyplot as plt"
   ]
  },
  {
   "cell_type": "code",
   "execution_count": null,
   "metadata": {
    "collapsed": false
   },
   "outputs": [],
   "source": [
    "def mean_squared_error(y, y_hat):\n",
    "    n = len(y)\n",
    "    result = 0\n",
    "    for i in range(0,n):\n",
    "        result = result + (y[i]-y_hat[i])**2\n",
    "    \n",
    "    result = result / n\n",
    "    \n",
    "    return result"
   ]
  },
  {
   "cell_type": "code",
   "execution_count": null,
   "metadata": {
    "collapsed": false
   },
   "outputs": [],
   "source": [
    "def mean_absolute_error(y, y_hat):\n",
    "    n = len(y)\n",
    "    result = 0\n",
    "    for i in range(0,n):\n",
    "        result = result + abs(y[i]-y_hat[i])\n",
    "    \n",
    "    result = result / n\n",
    "\n",
    "    return result"
   ]
  },
  {
   "cell_type": "code",
   "execution_count": null,
   "metadata": {
    "collapsed": false
   },
   "outputs": [],
   "source": [
    "w = 3\n",
    "b = 0.5\n",
    "\n",
    "x_lin = np.linspace(0, 100, 101)\n",
    "\n",
    "y = (x_lin + np.random.randn(101) * 5) * w + b\n",
    "\n",
    "plt.plot(x_lin, y, 'b.', label = 'data points')\n",
    "plt.title(\"Assume we have data points\")\n",
    "plt.legend(loc = 2)\n",
    "plt.show()"
   ]
  },
  {
   "cell_type": "code",
   "execution_count": null,
   "metadata": {
    "collapsed": false
   },
   "outputs": [],
   "source": [
    "y_hat = x_lin * w + b\n",
    "plt.plot(x_lin, y, 'b.', label = 'data')\n",
    "plt.plot(x_lin, y_hat, 'r-', label = 'prediction')\n",
    "plt.title(\"Assume we have data points (And the prediction)\")\n",
    "plt.legend(loc = 2)\n",
    "plt.show()"
   ]
  },
  {
   "cell_type": "code",
   "execution_count": null,
   "metadata": {
    "collapsed": false
   },
   "outputs": [],
   "source": [
    "# 執行 Function, 確認有沒有正常執行\n",
    "MSE = mean_squared_error(y, y_hat)\n",
    "MAE = mean_absolute_error(y, y_hat)\n",
    "\n",
    "print(\"The Mean squared error is %.3f\" % (MSE))\n",
    "print(\"The Mean absolute error is %.3f\" % (MAE))"
   ]
  }
 ],
 "metadata": {
  "anaconda-cloud": {},
  "kernelspec": {
   "display_name": "Python [default]",
   "language": "python",
   "name": "python3"
  },
  "language_info": {
   "codemirror_mode": {
    "name": "ipython",
    "version": 3
   },
   "file_extension": ".py",
   "mimetype": "text/x-python",
   "name": "python",
   "nbconvert_exporter": "python",
   "pygments_lexer": "ipython3",
   "version": "3.5.2"
  }
 },
 "nbformat": 4,
 "nbformat_minor": 1
}
